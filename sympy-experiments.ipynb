{
 "cells": [
  {
   "cell_type": "markdown",
   "id": "surface-solid",
   "metadata": {},
   "source": [
    "## Solve Equation\n",
    "\n",
    "Solve this **system of equations**:\n",
    "\n",
    "$$\n",
    "\\begin{cases}\n",
    "  \\begin{aligned}\n",
    "    y &= x + 3 \\\\\n",
    "    y - 12 &= -2x\n",
    "  \\end{aligned}\n",
    "\\end{cases}\n",
    "$$"
   ]
  },
  {
   "cell_type": "code",
   "execution_count": 25,
   "id": "broke-preparation",
   "metadata": {
    "slideshow": {
     "slide_type": "slide"
    },
    "tags": []
   },
   "outputs": [
    {
     "data": {
      "text/latex": [
       "$\\displaystyle y = x + 3$"
      ],
      "text/plain": [
       "Eq(y, x + 3)"
      ]
     },
     "metadata": {},
     "output_type": "display_data"
    },
    {
     "data": {
      "text/latex": [
       "$\\displaystyle y - 12 = - 2 x$"
      ],
      "text/plain": [
       "Eq(y - 12, -2*x)"
      ]
     },
     "metadata": {},
     "output_type": "display_data"
    },
    {
     "data": {
      "text/latex": [
       "$\\displaystyle y$"
      ],
      "text/plain": [
       "y"
      ]
     },
     "metadata": {},
     "output_type": "display_data"
    },
    {
     "data": {
      "text/latex": [
       "$\\displaystyle x + 3$"
      ],
      "text/plain": [
       "x + 3"
      ]
     },
     "metadata": {},
     "output_type": "display_data"
    }
   ],
   "source": [
    "from sympy import symbols, Eq, simplify\n",
    "\n",
    "x, y = symbols('x y')\n",
    "eq1, eq2 = Eq(y, x + 3), Eq(y - 12, -2 * x)\n",
    "    \n",
    "display(eq1)\n",
    "display(eq2)\n",
    "display(eq1.lhs)  # left side of equation\n",
    "display(eq1.rhs)  # right side of equation"
   ]
  },
  {
   "cell_type": "code",
   "execution_count": 26,
   "id": "australian-contractor",
   "metadata": {},
   "outputs": [
    {
     "data": {
      "text/plain": [
       "{x: 3, y: 6}"
      ]
     },
     "execution_count": 26,
     "metadata": {},
     "output_type": "execute_result"
    }
   ],
   "source": [
    "equations = [eq1, eq2]\n",
    "solve(equations)"
   ]
  },
  {
   "cell_type": "code",
   "execution_count": 27,
   "id": "pediatric-population",
   "metadata": {},
   "outputs": [
    {
     "data": {
      "image/png": "[encoded data removed]",
      "text/plain": [
       "<Figure size 432x288 with 1 Axes>"
      ]
     },
     "metadata": {
      "needs_background": "light"
     },
     "output_type": "display_data"
    }
   ],
   "source": [
    "from sympy.plotting import plot\n",
    "%matplotlib inline\n",
    "\n",
    "x, y = symbols('x y')\n",
    "\n",
    "p1 = plot(x + 3, show = False)\n",
    "p2 = plot(-2 * x + 12, show = False)\n",
    "\n",
    "p1.extend(p2)\n",
    "p1.show()"
   ]
  },
  {
   "cell_type": "markdown",
   "id": "voluntary-tractor",
   "metadata": {},
   "source": [
    "Using **Gaussian elimination**, transform\n",
    "\n",
    "$$\n",
    "\\begin{cases}\n",
    "  \\begin{aligned}\n",
    "    y &= x + 3 \\\\\n",
    "    y - 12 &= -2x\n",
    "  \\end{aligned}\n",
    "\\end{cases}\n",
    "$$\n",
    "\n",
    "to\n",
    "\n",
    "$$\n",
    "\\begin{cases}\n",
    "  \\begin{aligned}\n",
    "    -x + y &= 3 \\\\\n",
    "    2x + y &= 12\n",
    "  \\end{aligned}\n",
    "\\end{cases}\n",
    "$$"
   ]
  },
  {
   "cell_type": "code",
   "execution_count": 33,
   "id": "provincial-amino",
   "metadata": {},
   "outputs": [
    {
     "data": {
      "text/latex": [
       "$\\displaystyle \\left[\\begin{matrix}-1 & 1 & 3\\\\2 & 1 & 12\\end{matrix}\\right]$"
      ],
      "text/plain": [
       "Matrix([\n",
       "[-1, 1,  3],\n",
       "[ 2, 1, 12]])"
      ]
     },
     "metadata": {},
     "output_type": "display_data"
    },
    {
     "data": {
      "text/plain": [
       "{x: 3, y: 6}"
      ]
     },
     "execution_count": 33,
     "metadata": {},
     "output_type": "execute_result"
    }
   ],
   "source": [
    "from sympy import solve_linear_system, Matrix\n",
    "\n",
    "system = Matrix(([-1, 1, 3], [2, 1, 12]))\n",
    "display(system)\n",
    "solve_linear_system(system, x, y)"
   ]
  }
 ],
 "metadata": {
  "kernelspec": {
   "display_name": "Python 3",
   "language": "python",
   "name": "python3"
  },
  "language_info": {
   "codemirror_mode": {
    "name": "ipython",
    "version": 3
   },
   "file_extension": ".py",
   "mimetype": "text/x-python",
   "name": "python",
   "nbconvert_exporter": "python",
   "pygments_lexer": "ipython3",
   "version": "3.9.1"
  }
 },
 "nbformat": 4,
 "nbformat_minor": 5
}
